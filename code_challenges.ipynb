{
 "cells": [
  {
   "cell_type": "markdown",
   "metadata": {},
   "source": [
    "### 1. GC content\n",
    "Write a program to determine the GC content (% GC) of the following sequence:\n",
    "\n",
    "`GCTGCACCGAGTACTGTCTCCGGGGAGTTGAATTCTGAAGAACCTTAAAACTTTAACCTCGCCTCGGTGATTAGGAGGGGTAAATGCCTTGGCAGAAATTAAATATAAGACTCTGGTTTTGAAACGGATCTGACAGTGAGTATCAAGATTCACGTGTACTCGTCTTGGGGACACGGTCAGGCATCGGAAAACGGAGTAACCTACCTTATGCTCTAAAAAATAATGAATACAAGCAATGAAGAGGAAGCTAGGGGTAAGTATGACCTATAATTGGAATACTTGCGTTGAACCCCTTTGGTCTTTGGTGGTTTTACAAAGGGGTAAACTGGTATCTGAGGTTTCGTATTCATCTTAATCGGAGGAGTATTGTAAATGTTTTAGCGGAAGGGTAGTTGAGCAGACAGCGATCTAGGGTTCGCTCCAACGCGTATGATTGCTTACACAGCAATATATACCTAGCTGTGCTGATCCGTTCGAGCTGGGCCATCAACACACTGTAGTTATGTTGTCCGGAAGTTCGGAGAGTTAATGTTATAGTCTAGGAGACTAAGATATAATCCTGCCTAGTTCTTAAAATTCTATGAAATTCGAAGGTATTGTGCAAGGTTATTATAGTTAAATACGTTAATGATATAGGGTTCGGGGCAACAGTAGGCGATTGATTCTAGATATAAAAAGTAAGCTCACAACCTGAAAATTGAGACTGAGGAGAAGAGCAAGCCTGTGTCAGTTAATCTGTTTCTGTATTCGAATGATACGCAGGGATAAATTGACTAGTAACAGCGACAACAAAAAAGGGTTGGTCTGCCTAATCACTTCTGCAAATAAGTCAGTGCTCAGACATAAACAATAGTGCCGCATCTACCCCCTACGTGTACACGATTAGCCATGTGGAGGAAG`"
   ]
  },
  {
   "cell_type": "markdown",
   "metadata": {},
   "source": [
    "### 2. Jabberwocky I\n",
    "Write a program to return a string of three `|`-separated, 10 character sub-sequences from the following text, starting at the specified indices:\n",
    "\n",
    "`’Twasbrillig,andtheslithytovesDidgyreandgimbleinthewabe:Allmimsyweretheborogoves,Andthemomerathsoutgrabe.“BewaretheJabberwock,myson!Thejawsthatbite,theclawsthatcatch!BewaretheJubjubbird,andshunThefrumiousBandersnatch!”Hetookhisvorpalswordinhand;Longtimethemanxomefoehesought—SorestedhebytheTumtumtreeAndstoodawhileinthought.And,asinuffishthoughthestood,TheJabberwock,witheyesofflame,Camewhifflingthroughthetulgeywood,Andburbledasitcame!One,two!One,two!AndthroughandthroughThevorpalbladewentsnicker-snack!Heleftitdead,andwithitsheadHewentgalumphingback.“AndhastthouslaintheJabberwock?Cometomyarms,mybeamishboy!Ofrabjousday!Callooh!Callay!”Hechortledinhisjoy.’Twasbrillig,andtheslithytovesDidgyreandgimbleinthewabe:Allmimsyweretheborogoves,Andthemomerathsoutgrabe.`\n",
    "\n",
    "`115, 356, 572`\n",
    "\n",
    "Example:\n",
    "\n",
    "`input: 0, 10, 20\n",
    "output: '’Twasbrill|ig,andthes|lithytoves'`"
   ]
  },
  {
   "cell_type": "markdown",
   "metadata": {},
   "source": [
    "### 3. Jabberwocky II\n",
    "Write a program to return the words of the following poem at the following indices (without punctuation):\n",
    "\n",
    "`’Twas brillig, and the slithy toves Did gyre and gimble in the wabe: All mimsy were the borogoves, And the mome raths outgrabe. “Beware the Jabberwock, my son! The jaws that bite, the claws that catch! Beware the Jubjub bird, and shun The frumious Bandersnatch!” He took his vorpal sword in hand; Long time the manxome foe he sought— So rested he by the Tumtum tree And stood awhile in thought. And, as in uffish thought he stood, The Jabberwock, with eyes of flame, Came whiffling through the tulgey wood, And burbled as it came! One, two! One, two! And through and through The vorpal blade went snicker-snack! He left it dead, and with its head He went galumphing back. “And hast thou slain the Jabberwock? Come to my arms, my beamish boy! O frabjous day! Callooh! Callay!” He chortled in his joy. ’Twas brillig, and the slithy toves Did gyre and gimble in the wabe: All mimsy were the borogoves, And the mome raths outgrabe.'`\n",
    "\n",
    "`44, 88, 131`\n",
    "\n",
    "Example:\n",
    "\n",
    "`input: 0, 1, 2\n",
    "output: '[Twas', 'brillig', 'and']`"
   ]
  },
  {
   "cell_type": "code",
   "execution_count": null,
   "metadata": {
    "collapsed": true
   },
   "outputs": [],
   "source": []
  }
 ],
 "metadata": {
  "kernelspec": {
   "display_name": "Python [conda root]",
   "language": "python",
   "name": "conda-root-py"
  },
  "language_info": {
   "codemirror_mode": {
    "name": "ipython",
    "version": 3
   },
   "file_extension": ".py",
   "mimetype": "text/x-python",
   "name": "python",
   "nbconvert_exporter": "python",
   "pygments_lexer": "ipython3",
   "version": "3.5.3"
  }
 },
 "nbformat": 4,
 "nbformat_minor": 2
}
