{
 "cells": [
  {
   "cell_type": "code",
   "execution_count": 36,
   "metadata": {
    "collapsed": true
   },
   "outputs": [],
   "source": [
    "def fasta_parse(fasta, delimiter=\">\", separator=\"\", trim_header=True):\n",
    "    \"\"\"\n",
    "    Iterator which takes FASTA as input. Yields\n",
    "    header/value pairs. Separator will be\n",
    "    used to join the return value; use separator=\n",
    "    None to return a list.\n",
    "\n",
    "    If trim_header, parser will return the\n",
    "    FASTA header up to the first space character.\n",
    "    Otherwise, it will return the full, unaltered\n",
    "    header string.\n",
    "\n",
    "    \"\"\"\n",
    "    header, seq = None, []\n",
    "    with open(fasta) as f:\n",
    "        for line in f:\n",
    "            if line.startswith(delimiter):\n",
    "                if header is not None: # does not execute\n",
    "                    if separator is not None:\n",
    "                        seq = separator.join(str(e) for e in seq)\n",
    "                    yield header, seq\n",
    "                header = line.strip().lstrip(delimiter)\n",
    "                if trim_header:\n",
    "                    try:\n",
    "                        header = header.split()[0]\n",
    "                    except IndexError:  # blank header\n",
    "                        header = \"\"\n",
    "                seq = []\n",
    "            elif line.startswith('#'):\n",
    "                continue\n",
    "            else:\n",
    "                if line.strip():  # don't collect blank lines\n",
    "                    seq.append(line.rstrip('\\n'))\n",
    "        if separator is not None:\n",
    "            seq = separator.join(str(e) for e in seq)\n",
    "        yield header, seq"
   ]
  },
  {
   "cell_type": "markdown",
   "metadata": {},
   "source": [
    ">1\n",
    "One\n",
    ">2\n",
    "Two\n",
    ">3,4\n",
    "Three\n",
    "Four\n",
    ">5,6,7\n",
    "Five\n",
    "Six\n",
    "Seven"
   ]
  },
  {
   "cell_type": "code",
   "execution_count": 35,
   "metadata": {
    "collapsed": false
   },
   "outputs": [
    {
     "name": "stdout",
     "output_type": "stream",
     "text": [
      "1 One\n",
      "2 Two\n",
      "3,4 ThreeFour\n"
     ]
    }
   ],
   "source": [
    "for header, seq in fasta_parse('./FASTA_parsing/sample.fasta'):\n",
    "    print(header, seq)"
   ]
  },
  {
   "cell_type": "code",
   "execution_count": 29,
   "metadata": {
    "collapsed": false
   },
   "outputs": [
    {
     "data": {
      "text/plain": [
       "'One'"
      ]
     },
     "execution_count": 29,
     "metadata": {},
     "output_type": "execute_result"
    }
   ],
   "source": [
    "seq = ['One']\n",
    "''.join(seq)"
   ]
  },
  {
   "cell_type": "code",
   "execution_count": 25,
   "metadata": {
    "collapsed": false
   },
   "outputs": [
    {
     "data": {
      "text/plain": [
       "'oops'"
      ]
     },
     "execution_count": 25,
     "metadata": {},
     "output_type": "execute_result"
    }
   ],
   "source": [
    "my_variable"
   ]
  },
  {
   "cell_type": "code",
   "execution_count": null,
   "metadata": {
    "collapsed": true
   },
   "outputs": [],
   "source": []
  }
 ],
 "metadata": {
  "kernelspec": {
   "display_name": "Python [conda root]",
   "language": "python",
   "name": "conda-root-py"
  },
  "language_info": {
   "codemirror_mode": {
    "name": "ipython",
    "version": 3
   },
   "file_extension": ".py",
   "mimetype": "text/x-python",
   "name": "python",
   "nbconvert_exporter": "python",
   "pygments_lexer": "ipython3",
   "version": "3.5.3"
  }
 },
 "nbformat": 4,
 "nbformat_minor": 2
}
