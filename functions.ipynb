{
 "cells": [
  {
   "cell_type": "markdown",
   "metadata": {},
   "source": [
    "### Functions"
   ]
  },
  {
   "cell_type": "markdown",
   "metadata": {},
   "source": [
    "Functions in Python are a way of packaging code into a self-contained unit, compartmentalizing some or another series of steps which needs to be performed multiple times on different input."
   ]
  },
  {
   "cell_type": "markdown",
   "metadata": {},
   "source": [
    "For example, suppose we have a list of users for a given system,"
   ]
  },
  {
   "cell_type": "code",
   "execution_count": 1,
   "metadata": {
    "collapsed": true
   },
   "outputs": [],
   "source": [
    "users = [\n",
    "    'Graham Larue', \n",
    "    'Swadha Singh', \n",
    "    'Melanie LeGro', \n",
    "    'Noelle Anderson', \n",
    "    'Robert Poston',\n",
    "    'Brad Bowser',\n",
    "    'Alyssa Funk',\n",
    "    'Aarti Raj'\n",
    "]"
   ]
  },
  {
   "cell_type": "markdown",
   "metadata": {},
   "source": [
    "and we need to assign them usernames of a set, short length (assuming that all names are unique and that enforcing a short username length makes any kind of actual sense).\n",
    "\n",
    "Let's say the usernames all have to be a maximum of six characters long. We could write a `for` loop to do this:"
   ]
  },
  {
   "cell_type": "code",
   "execution_count": 2,
   "metadata": {},
   "outputs": [
    {
     "name": "stdout",
     "output_type": "stream",
     "text": [
      "graham\n",
      "larue\n"
     ]
    }
   ],
   "source": [
    "name = 'Graham Larue'\n",
    "namelist = name.lower().split()\n",
    "for e in namelist:\n",
    "    print(e)"
   ]
  },
  {
   "cell_type": "code",
   "execution_count": 3,
   "metadata": {},
   "outputs": [
    {
     "name": "stdout",
     "output_type": "stream",
     "text": [
      "['glarue', 'ssingh', 'mlegro', 'nander', 'rposto', 'bbowse', 'afunk', 'araj']\n"
     ]
    }
   ],
   "source": [
    "usernames = []\n",
    "\n",
    "for name in users:\n",
    "    first, last = name.lower().split()\n",
    "    f_initial = first[0]\n",
    "    last_five = last[:5]\n",
    "    username = f_initial + last_five\n",
    "    usernames.append(username)\n",
    "    \n",
    "print(usernames)"
   ]
  },
  {
   "cell_type": "markdown",
   "metadata": {},
   "source": [
    "This works fine, but the processing of the data would be happening right in the main body of our program, which doesn't allow for easy re-use of code later on. We might, for example, process some set of names early on in our program, and then want to do the same type of processing later. To do so using a simple `for` loop would require copying and pasting the above code multiple times within our program. While this may not be terribly inconvenient for a short program, if we ever want to change anything about our username formatting, we would have to change it in every occurence of the code in our program.\n",
    "\n",
    "Any time you are going to perform the same operation multiple times within a program, you probably want to use a function. We can write a function to give us the same result as our `for` loop above like so:"
   ]
  },
  {
   "cell_type": "code",
   "execution_count": 4,
   "metadata": {
    "collapsed": true
   },
   "outputs": [],
   "source": [
    "def make_username(full_name):\n",
    "    first, last = full_name.lower().split()\n",
    "    f_initial = first[0]\n",
    "    last_five = last[:5]\n",
    "    username = f_initial + last_five\n",
    "    return username"
   ]
  },
  {
   "cell_type": "code",
   "execution_count": 5,
   "metadata": {},
   "outputs": [
    {
     "name": "stdout",
     "output_type": "stream",
     "text": [
      "['glarue', 'ssingh', 'mlegro', 'nander', 'rposto', 'bbowse', 'afunk', 'araj']\n"
     ]
    }
   ],
   "source": [
    "usernames = []\n",
    "for user in users:\n",
    "    usernames.append(make_username(user))\n",
    "print(usernames)"
   ]
  },
  {
   "cell_type": "markdown",
   "metadata": {},
   "source": [
    "This is almost identical to the `for` loop we wrote earlier, except that it processes only a single name, and it `return`s something.\n",
    "\n",
    "A `return` statement simply tells the function to send whatever data is specified back from the function to whatever piece of code is *calling* the function. In this case, the `return` value is the username-formatted string, based on the first and last name input given as a string in the variable `full_name`:"
   ]
  },
  {
   "cell_type": "code",
   "execution_count": 6,
   "metadata": {},
   "outputs": [
    {
     "data": {
      "text/plain": [
       "'glarue'"
      ]
     },
     "execution_count": 6,
     "metadata": {},
     "output_type": "execute_result"
    }
   ],
   "source": [
    "make_username('Graham Larue')"
   ]
  },
  {
   "cell_type": "code",
   "execution_count": 7,
   "metadata": {},
   "outputs": [
    {
     "data": {
      "text/plain": [
       "'rposto'"
      ]
     },
     "execution_count": 7,
     "metadata": {},
     "output_type": "execute_result"
    }
   ],
   "source": [
    "make_username('Robert Poston')"
   ]
  },
  {
   "cell_type": "code",
   "execution_count": 8,
   "metadata": {},
   "outputs": [
    {
     "data": {
      "text/plain": [
       "'bobama'"
      ]
     },
     "execution_count": 8,
     "metadata": {},
     "output_type": "execute_result"
    }
   ],
   "source": [
    "make_username('Barack Obama')"
   ]
  },
  {
   "cell_type": "markdown",
   "metadata": {},
   "source": [
    "Another advantage of packaging code into functions is the ability to add features to the function to make it more versatile:"
   ]
  },
  {
   "cell_type": "code",
   "execution_count": 9,
   "metadata": {},
   "outputs": [],
   "source": [
    "import random\n",
    "\n",
    "def make_username(full_name, length=6, unique_digits=False):\n",
    "    first, last = full_name.lower().split()\n",
    "    f_initial = first[0]\n",
    "    username = f_initial + last\n",
    "    username = username[:length]\n",
    "    if unique_digits:\n",
    "        random.seed()\n",
    "        unique_digit = str(random.getrandbits(16))\n",
    "        username = username + unique_digit\n",
    "    return username"
   ]
  },
  {
   "cell_type": "code",
   "execution_count": 10,
   "metadata": {},
   "outputs": [
    {
     "data": {
      "text/plain": [
       "'glarue'"
      ]
     },
     "execution_count": 10,
     "metadata": {},
     "output_type": "execute_result"
    }
   ],
   "source": [
    "make_username('Graham Larue')"
   ]
  },
  {
   "cell_type": "code",
   "execution_count": 11,
   "metadata": {},
   "outputs": [
    {
     "data": {
      "text/plain": [
       "'rposto'"
      ]
     },
     "execution_count": 11,
     "metadata": {},
     "output_type": "execute_result"
    }
   ],
   "source": [
    "make_username('Robert Poston')"
   ]
  },
  {
   "cell_type": "code",
   "execution_count": 12,
   "metadata": {},
   "outputs": [
    {
     "data": {
      "text/plain": [
       "'glarue28912'"
      ]
     },
     "execution_count": 12,
     "metadata": {},
     "output_type": "execute_result"
    }
   ],
   "source": [
    "make_username('Graham Larue', unique_digits=True)"
   ]
  },
  {
   "cell_type": "code",
   "execution_count": 34,
   "metadata": {},
   "outputs": [],
   "source": [
    "def percentage(a, b):\n",
    "    return (a / b) * 100"
   ]
  },
  {
   "cell_type": "code",
   "execution_count": 38,
   "metadata": {},
   "outputs": [
    {
     "data": {
      "text/plain": [
       "50.0"
      ]
     },
     "execution_count": 38,
     "metadata": {},
     "output_type": "execute_result"
    }
   ],
   "source": [
    "percentage(*(1, 2))"
   ]
  },
  {
   "cell_type": "code",
   "execution_count": 51,
   "metadata": {},
   "outputs": [
    {
     "ename": "TypeError",
     "evalue": "percentage() missing 1 required positional argument: 'b'",
     "output_type": "error",
     "traceback": [
      "\u001b[0;31m---------------------------------------------------------------------------\u001b[0m",
      "\u001b[0;31mTypeError\u001b[0m                                 Traceback (most recent call last)",
      "\u001b[0;32m<ipython-input-51-cf62a2e54b18>\u001b[0m in \u001b[0;36m<module>\u001b[0;34m()\u001b[0m\n\u001b[1;32m      2\u001b[0m \u001b[0;31m# lists = [list(t) for t in quotients]\u001b[0m\u001b[0;34m\u001b[0m\u001b[0;34m\u001b[0m\u001b[0m\n\u001b[1;32m      3\u001b[0m \u001b[0mlists\u001b[0m \u001b[0;34m=\u001b[0m \u001b[0mmap\u001b[0m\u001b[0;34m(\u001b[0m\u001b[0mpercentage\u001b[0m\u001b[0;34m,\u001b[0m \u001b[0mquotients\u001b[0m\u001b[0;34m)\u001b[0m\u001b[0;34m\u001b[0m\u001b[0m\n\u001b[0;32m----> 4\u001b[0;31m \u001b[0mlist\u001b[0m\u001b[0;34m(\u001b[0m\u001b[0mlists\u001b[0m\u001b[0;34m)\u001b[0m\u001b[0;34m\u001b[0m\u001b[0m\n\u001b[0m",
      "\u001b[0;31mTypeError\u001b[0m: percentage() missing 1 required positional argument: 'b'"
     ]
    }
   ],
   "source": [
    "quotients = [(1, 2), (3, 4), (5, 6), (10, 100)]\n",
    "# lists = [list(t) for t in quotients]\n",
    "\n",
    "list(lists)"
   ]
  },
  {
   "cell_type": "code",
   "execution_count": 42,
   "metadata": {},
   "outputs": [
    {
     "name": "stdout",
     "output_type": "stream",
     "text": [
      "[50.0, 75.0, 83.33333333333334, 10.0]\n"
     ]
    }
   ],
   "source": [
    "percentages = []\n",
    "for q in quotients:\n",
    "    x = q[0]\n",
    "    y = q[1]\n",
    "    percentages.append(percentage(x, y))\n",
    "#     print(percentage(*q))  # more efficient\n",
    "print(percentages)"
   ]
  },
  {
   "cell_type": "code",
   "execution_count": 46,
   "metadata": {},
   "outputs": [
    {
     "name": "stdout",
     "output_type": "stream",
     "text": [
      "[50.0, 75.0, 83.33333333333334, 10.0]\n"
     ]
    }
   ],
   "source": [
    "percentages = [percentage(q[0], q[1]) for q in quotients]\n",
    "print(percentages)"
   ]
  },
  {
   "cell_type": "code",
   "execution_count": null,
   "metadata": {
    "collapsed": true
   },
   "outputs": [],
   "source": []
  }
 ],
 "metadata": {
  "kernelspec": {
   "display_name": "Python [conda root]",
   "language": "python",
   "name": "conda-root-py"
  },
  "language_info": {
   "codemirror_mode": {
    "name": "ipython",
    "version": 3
   },
   "file_extension": ".py",
   "mimetype": "text/x-python",
   "name": "python",
   "nbconvert_exporter": "python",
   "pygments_lexer": "ipython3",
   "version": "3.5.3"
  }
 },
 "nbformat": 4,
 "nbformat_minor": 2
}
