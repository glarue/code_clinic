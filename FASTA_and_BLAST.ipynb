{
 "cells": [
  {
   "cell_type": "markdown",
   "metadata": {},
   "source": [
    "### A script to retrieve FASTA header/sequence pairs"
   ]
  },
  {
   "cell_type": "markdown",
   "metadata": {},
   "source": [
    "`sys.argv` is a list of values from the command line.\n",
    "\n",
    "The first element of this list, `sys.argv[0]`, is the script itself. Consider the following example:\n",
    "\n",
    "`python3 my_script.py alpaca baboon camel`\n",
    "\n",
    "In this case, `sys.argv` would be:"
   ]
  },
  {
   "cell_type": "code",
   "execution_count": 2,
   "metadata": {
    "collapsed": true
   },
   "outputs": [],
   "source": [
    "sys_args = ['path_to_my_script.py', 'alpaca', 'baboon', 'camel']"
   ]
  },
  {
   "cell_type": "markdown",
   "metadata": {},
   "source": [
    "This list can then be indexed as expected:"
   ]
  },
  {
   "cell_type": "code",
   "execution_count": 6,
   "metadata": {},
   "outputs": [
    {
     "name": "stdout",
     "output_type": "stream",
     "text": [
      "path_to_my_script.py\n",
      "alpaca\n"
     ]
    }
   ],
   "source": [
    "print(sys_args[0])\n",
    "print(sys_args[1])"
   ]
  },
  {
   "cell_type": "markdown",
   "metadata": {},
   "source": [
    "If we want all of the arguments supplied to the script as a list, we can just do"
   ]
  },
  {
   "cell_type": "code",
   "execution_count": 8,
   "metadata": {},
   "outputs": [
    {
     "data": {
      "text/plain": [
       "['alpaca', 'baboon', 'camel']"
      ]
     },
     "execution_count": 8,
     "metadata": {},
     "output_type": "execute_result"
    }
   ],
   "source": [
    "args = sys_args[1:]\n",
    "args"
   ]
  },
  {
   "cell_type": "markdown",
   "metadata": {},
   "source": [
    "So, for our script we want the user to be able to provide one or more header values for the script to retrieve from the file. We will require that the first argument (`sys.argv[1]`) be the FASTA file, and any following arguments will be headers:"
   ]
  },
  {
   "cell_type": "code",
   "execution_count": 10,
   "metadata": {
    "collapsed": true
   },
   "outputs": [],
   "source": [
    "import sys  # We need sys to get input from the command line\n",
    "\n",
    "def fasta_parse(fasta, delimiter=\">\", separator=\"\", trim_header=True):\n",
    "    \"\"\"\n",
    "    Iterator which takes FASTA as input. Yields\n",
    "    header/value pairs. Separator will be\n",
    "    used to join the return value; use separator=\n",
    "    None to return a list.\n",
    "\n",
    "    If trim_header, parser will return the\n",
    "    FASTA header up to the first space character.\n",
    "    Otherwise, it will return the full, unaltered\n",
    "    header string.\n",
    "\n",
    "    \"\"\"\n",
    "    header, seq = None, []\n",
    "    with open(fasta) as f:\n",
    "        for line in f:\n",
    "            if line.startswith(delimiter):\n",
    "                if header:  # associate accumulated seq with header\n",
    "                    if separator is not None:\n",
    "                        seq = separator.join(str(e) for e in seq)\n",
    "                    yield header, seq\n",
    "                # Assign a new header\n",
    "                header = line.strip().lstrip(delimiter)\n",
    "                if trim_header:\n",
    "                    header = header.split()[0]\n",
    "                # Clear seq for new round of collection\n",
    "                seq = []\n",
    "            elif line.startswith('#'):\n",
    "                continue\n",
    "            else:\n",
    "                if line.strip():  # don't collect blank lines\n",
    "                    seq.append(line.rstrip('\\n'))\n",
    "        if separator is not None:  # make string\n",
    "            seq = separator.join(str(e) for e in seq)\n",
    "        yield header, seq\n",
    "\n",
    "fasta_file = sys.argv[1]\n",
    "headers = sys.argv[2:]  # every additional argument, as a list\n",
    "headers = set(headers)  # no duplicate headers\n",
    "\n",
    "header_n_wanted = len(headers)\n",
    "found_header_count = 0\n",
    "\n",
    "# We have our fasta_parse function, which gives ('yields') every header/sequence pair \n",
    "# in a FASTA file as an iterable (which means we can loop over its values)\n",
    "for header, sequence in fasta_parse(fasta_file):  # the function opens the file internally\n",
    "    # check if each header is wanted by the user\n",
    "    if header in headers:  # print the header and its sequence\n",
    "        found_header_count += 1\n",
    "        print('>' + header)\n",
    "#         print('>{}'.format(header))\n",
    "        print(sequence)\n",
    "        headers.remove(header)\n",
    "        # exit the loop as early as possible so we aren't looping through\n",
    "        # the whole file if we don't need to\n",
    "        if len(headers) == 0:  # all headers found\n",
    "            break  # exit the containing loop\n",
    "            \n",
    "# Give user some info about how things went;\n",
    "# the `file` argument allows for the output to be sent to a different\n",
    "# stream so that it's not captured in any redirection the user might\n",
    "# make\n",
    "print('# Found {}/{} headers'.format(found_header_count, header_n_wanted), file=sys.stderr)\n",
    "\n",
    "sys.exit(0)  # a formality"
   ]
  },
  {
   "cell_type": "code",
   "execution_count": null,
   "metadata": {
    "collapsed": true
   },
   "outputs": [],
   "source": []
  }
 ],
 "metadata": {
  "kernelspec": {
   "display_name": "Python [conda root]",
   "language": "python",
   "name": "conda-root-py"
  },
  "language_info": {
   "codemirror_mode": {
    "name": "ipython",
    "version": 3
   },
   "file_extension": ".py",
   "mimetype": "text/x-python",
   "name": "python",
   "nbconvert_exporter": "python",
   "pygments_lexer": "ipython3",
   "version": "3.5.3"
  }
 },
 "nbformat": 4,
 "nbformat_minor": 2
}
