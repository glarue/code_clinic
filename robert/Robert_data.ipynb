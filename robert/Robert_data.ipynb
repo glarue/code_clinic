{
 "cells": [
  {
   "cell_type": "code",
   "execution_count": 57,
   "metadata": {},
   "outputs": [
    {
     "ename": "IndexError",
     "evalue": "list index out of range",
     "output_type": "error",
     "traceback": [
      "\u001b[0;31m---------------------------------------------------------------------------\u001b[0m",
      "\u001b[0;31mIndexError\u001b[0m                                Traceback (most recent call last)",
      "\u001b[0;32m<ipython-input-57-d5bb1993cc9b>\u001b[0m in \u001b[0;36m<module>\u001b[0;34m()\u001b[0m\n\u001b[1;32m     29\u001b[0m \u001b[0;34m\u001b[0m\u001b[0m\n\u001b[1;32m     30\u001b[0m \u001b[0;32mfor\u001b[0m \u001b[0mf\u001b[0m \u001b[0;32min\u001b[0m \u001b[0mfile_list\u001b[0m\u001b[0;34m:\u001b[0m\u001b[0;34m\u001b[0m\u001b[0m\n\u001b[0;32m---> 31\u001b[0;31m     \u001b[0mfile_data\u001b[0m \u001b[0;34m=\u001b[0m \u001b[0mget_column\u001b[0m\u001b[0;34m(\u001b[0m\u001b[0mf\u001b[0m\u001b[0;34m)\u001b[0m\u001b[0;34m\u001b[0m\u001b[0m\n\u001b[0m\u001b[1;32m     32\u001b[0m     \u001b[0mall_columns\u001b[0m\u001b[0;34m.\u001b[0m\u001b[0mappend\u001b[0m\u001b[0;34m(\u001b[0m\u001b[0mfile_data\u001b[0m\u001b[0;34m)\u001b[0m\u001b[0;34m\u001b[0m\u001b[0m\n\u001b[1;32m     33\u001b[0m     \u001b[0mfn\u001b[0m \u001b[0;34m=\u001b[0m \u001b[0mos\u001b[0m\u001b[0;34m.\u001b[0m\u001b[0mpath\u001b[0m\u001b[0;34m.\u001b[0m\u001b[0mbasename\u001b[0m\u001b[0;34m(\u001b[0m\u001b[0mf\u001b[0m\u001b[0;34m)\u001b[0m\u001b[0;34m\u001b[0m\u001b[0m\n",
      "\u001b[0;32m<ipython-input-57-d5bb1993cc9b>\u001b[0m in \u001b[0;36mget_column\u001b[0;34m(f)\u001b[0m\n\u001b[1;32m     17\u001b[0m                 \u001b[0;32mcontinue\u001b[0m\u001b[0;34m\u001b[0m\u001b[0m\n\u001b[1;32m     18\u001b[0m             \u001b[0mdata\u001b[0m \u001b[0;34m=\u001b[0m \u001b[0ml\u001b[0m\u001b[0;34m.\u001b[0m\u001b[0msplit\u001b[0m\u001b[0;34m(\u001b[0m\u001b[0;34m)\u001b[0m\u001b[0;34m\u001b[0m\u001b[0m\n\u001b[0;32m---> 19\u001b[0;31m             \u001b[0mdata_to_keep\u001b[0m \u001b[0;34m=\u001b[0m \u001b[0mdata\u001b[0m\u001b[0;34m[\u001b[0m\u001b[0;36m1\u001b[0m\u001b[0;34m]\u001b[0m\u001b[0;34m\u001b[0m\u001b[0m\n\u001b[0m\u001b[1;32m     20\u001b[0m             \u001b[0mdata_list\u001b[0m\u001b[0;34m.\u001b[0m\u001b[0mappend\u001b[0m\u001b[0;34m(\u001b[0m\u001b[0mdata_to_keep\u001b[0m\u001b[0;34m)\u001b[0m\u001b[0;34m\u001b[0m\u001b[0m\n\u001b[1;32m     21\u001b[0m \u001b[0;34m\u001b[0m\u001b[0m\n",
      "\u001b[0;31mIndexError\u001b[0m: list index out of range"
     ]
    }
   ],
   "source": [
    "import os\n",
    "import sys\n",
    "from collections import defaultdict\n",
    "\n",
    "def get_column(f):\n",
    "    data_list = []\n",
    "    with open(f) as infile:\n",
    "        reached_data = False\n",
    "        for l in infile:\n",
    "            l = l.strip()\n",
    "            if not l:  # True if l.strip() == ''\n",
    "                continue\n",
    "            if 'Channel' in l and 'Number' in l and 'Spikes' in l:\n",
    "                reached_data = True\n",
    "                continue\n",
    "            if not reached_data:\n",
    "                continue\n",
    "            data = l.split()\n",
    "            data_to_keep = data[1]\n",
    "            data_list.append(data_to_keep)\n",
    "    \n",
    "    return data_list\n",
    "\n",
    "START_DIR = os.getcwd()\n",
    "file_list = os.listdir(START_DIR)\n",
    "\n",
    "all_columns = []\n",
    "all_headers = []\n",
    "\n",
    "for f in file_list:\n",
    "    file_data = get_column(f)\n",
    "    all_columns.append(file_data)\n",
    "    fn = os.path.basename(f)\n",
    "    all_headers.append(fn)\n",
    "    \n",
    "\n",
    "# We need to print the nth value of every column on each line,\n",
    "# so the first line has the first value from each column,\n",
    "# the second line has all values from the second position, etc.\n",
    "\n",
    "# We can do this with a dictionary whose keys are the positions,\n",
    "# and whose values are a list of the combined nth values from every column\n",
    "# e.g. {0: [0, 0, 1, 0, ...], 1: [0, 1, 1, 0, ...], ...}\n",
    "transmuted = defaultdict(list)\n",
    "for c_list in all_columns:\n",
    "    for position, column_value in enumerate(c_list):\n",
    "        try:\n",
    "            transmuted[position].append(column_value)\n",
    "        except IndexError:  # no more positions left in list\n",
    "            continue\n",
    "    \n",
    "header_line = '\\t'.join(all_headers)\n",
    "print(header_line)\n",
    "\n",
    "for index, value_list in sorted(transmuted.items()):\n",
    "    print('\\t'.join(value_list))"
   ]
  },
  {
   "cell_type": "code",
   "execution_count": 56,
   "metadata": {
    "scrolled": true
   },
   "outputs": [],
   "source": [
    "f = os.listdir()[0]\n"
   ]
  },
  {
   "cell_type": "code",
   "execution_count": 15,
   "metadata": {},
   "outputs": [
    {
     "name": "stdout",
     "output_type": "stream",
     "text": [
      "['n', 'n', 'n', 'n']\n"
     ]
    }
   ],
   "source": [
    "booleans = []\n",
    "for x in empties:\n",
    "    if x:\n",
    "        booleans.append('y')\n",
    "    elif not x:\n",
    "        booleans.append('n')\n",
    "print(booleans)\n",
    "# ['y' if x else 'n' for x in empties]"
   ]
  },
  {
   "cell_type": "code",
   "execution_count": 18,
   "metadata": {},
   "outputs": [
    {
     "data": {
      "text/plain": [
       "'abc'"
      ]
     },
     "execution_count": 18,
     "metadata": {},
     "output_type": "execute_result"
    }
   ],
   "source": []
  },
  {
   "cell_type": "code",
   "execution_count": null,
   "metadata": {
    "collapsed": true
   },
   "outputs": [],
   "source": []
  }
 ],
 "metadata": {
  "kernelspec": {
   "display_name": "Python [conda root]",
   "language": "python",
   "name": "conda-root-py"
  },
  "language_info": {
   "codemirror_mode": {
    "name": "ipython",
    "version": 3
   },
   "file_extension": ".py",
   "mimetype": "text/x-python",
   "name": "python",
   "nbconvert_exporter": "python",
   "pygments_lexer": "ipython3",
   "version": "3.5.3"
  }
 },
 "nbformat": 4,
 "nbformat_minor": 2
}
